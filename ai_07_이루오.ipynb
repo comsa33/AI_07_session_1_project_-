{
  "nbformat": 4,
  "nbformat_minor": 0,
  "metadata": {
    "colab": {
      "name": "ai_07_이루오.ipynb",
      "provenance": [],
      "collapsed_sections": []
    },
    "kernelspec": {
      "name": "python3",
      "display_name": "Python 3"
    },
    "language_info": {
      "name": "python"
    }
  },
  "cells": [
    {
      "cell_type": "code",
      "metadata": {
        "colab": {
          "base_uri": "https://localhost:8080/"
        },
        "id": "sLqmCKqd82Jr",
        "outputId": "2b9eb6b4-5734-4a43-e08b-b3d32d6c73dc"
      },
      "source": [
        "import pandas as pd\n",
        "import numpy as np\n",
        "import matplotlib.pyplot as plt\n",
        "from scipy.stats import ttest_1samp, ttest_ind, chisquare, chi2_contingency\n",
        "from sklearn.decomposition import PCA\n",
        "from sklearn.preprocessing import StandardScaler\n",
        "\n",
        "path = \"/content/drive/MyDrive/vgames2.csv\"\n",
        "\n",
        "df_vgames = pd.read_csv(path, index_col=0)\n",
        "\n",
        "df_vgames.info()"
      ],
      "execution_count": 35,
      "outputs": [
        {
          "output_type": "stream",
          "name": "stdout",
          "text": [
            "<class 'pandas.core.frame.DataFrame'>\n",
            "Int64Index: 16598 entries, 1 to 16598\n",
            "Data columns (total 9 columns):\n",
            " #   Column       Non-Null Count  Dtype  \n",
            "---  ------       --------------  -----  \n",
            " 0   Name         16598 non-null  object \n",
            " 1   Platform     16598 non-null  object \n",
            " 2   Year         16327 non-null  float64\n",
            " 3   Genre        16548 non-null  object \n",
            " 4   Publisher    16540 non-null  object \n",
            " 5   NA_Sales     16598 non-null  object \n",
            " 6   EU_Sales     16598 non-null  object \n",
            " 7   JP_Sales     16598 non-null  object \n",
            " 8   Other_Sales  16598 non-null  object \n",
            "dtypes: float64(1), object(8)\n",
            "memory usage: 1.3+ MB\n"
          ]
        }
      ]
    },
    {
      "cell_type": "code",
      "metadata": {
        "colab": {
          "base_uri": "https://localhost:8080/"
        },
        "id": "hqa9CZDe-GUW",
        "outputId": "7001ccba-c494-458c-8d19-f6fb529e1a9d"
      },
      "source": [
        "df_vgames.isna().sum()"
      ],
      "execution_count": 36,
      "outputs": [
        {
          "output_type": "execute_result",
          "data": {
            "text/plain": [
              "Name             0\n",
              "Platform         0\n",
              "Year           271\n",
              "Genre           50\n",
              "Publisher       58\n",
              "NA_Sales         0\n",
              "EU_Sales         0\n",
              "JP_Sales         0\n",
              "Other_Sales      0\n",
              "dtype: int64"
            ]
          },
          "metadata": {},
          "execution_count": 36
        }
      ]
    },
    {
      "cell_type": "code",
      "metadata": {
        "colab": {
          "base_uri": "https://localhost:8080/"
        },
        "id": "XOe7ymNC-LMW",
        "outputId": "dcdbd6a6-365c-4bda-c0df-47b1fa8795a8"
      },
      "source": [
        "cols = df_vgames.columns\n",
        "for col in cols:\n",
        "    missing_rate = df_vgames[col].isna().sum()/df_vgames.shape[0]\n",
        "    if missing_rate > 0:\n",
        "        print('[{}]의 결측치 비율은 {}% 입니다'.format(col, round(missing_rate*100,4)))"
      ],
      "execution_count": 37,
      "outputs": [
        {
          "output_type": "stream",
          "name": "stdout",
          "text": [
            "[Year]의 결측치 비율은 1.6327% 입니다\n",
            "[Genre]의 결측치 비율은 0.3012% 입니다\n",
            "[Publisher]의 결측치 비율은 0.3494% 입니다\n"
          ]
        }
      ]
    },
    {
      "cell_type": "code",
      "metadata": {
        "colab": {
          "base_uri": "https://localhost:8080/"
        },
        "id": "IjKAC_ir_6Sl",
        "outputId": "6deee6f2-64bc-463f-dc9a-878884969e21"
      },
      "source": [
        "df_new = df_vgames.fillna('Unknown')\n",
        "df_new.info()"
      ],
      "execution_count": 38,
      "outputs": [
        {
          "output_type": "stream",
          "name": "stdout",
          "text": [
            "<class 'pandas.core.frame.DataFrame'>\n",
            "Int64Index: 16598 entries, 1 to 16598\n",
            "Data columns (total 9 columns):\n",
            " #   Column       Non-Null Count  Dtype \n",
            "---  ------       --------------  ----- \n",
            " 0   Name         16598 non-null  object\n",
            " 1   Platform     16598 non-null  object\n",
            " 2   Year         16598 non-null  object\n",
            " 3   Genre        16598 non-null  object\n",
            " 4   Publisher    16598 non-null  object\n",
            " 5   NA_Sales     16598 non-null  object\n",
            " 6   EU_Sales     16598 non-null  object\n",
            " 7   JP_Sales     16598 non-null  object\n",
            " 8   Other_Sales  16598 non-null  object\n",
            "dtypes: object(9)\n",
            "memory usage: 1.3+ MB\n"
          ]
        }
      ]
    },
    {
      "cell_type": "code",
      "metadata": {
        "colab": {
          "base_uri": "https://localhost:8080/"
        },
        "id": "CZbZ_4MHELHs",
        "outputId": "9d9c6516-145e-46f7-d454-4d49194bf41c"
      },
      "source": [
        "df_new[cols[5]]"
      ],
      "execution_count": 50,
      "outputs": [
        {
          "output_type": "execute_result",
          "data": {
            "text/plain": [
              "1        0.04\n",
              "2        0.17\n",
              "3           0\n",
              "4        0.04\n",
              "5        0.12\n",
              "         ... \n",
              "16594    0.15\n",
              "16595    0.01\n",
              "16596    0.44\n",
              "16597    0.05\n",
              "16598       0\n",
              "Name: NA_Sales, Length: 16598, dtype: object"
            ]
          },
          "metadata": {},
          "execution_count": 50
        }
      ]
    },
    {
      "cell_type": "code",
      "metadata": {
        "colab": {
          "base_uri": "https://localhost:8080/",
          "height": 470
        },
        "id": "1QiOBj2jDdFT",
        "outputId": "0c7f2ebd-3979-4178-fef3-d2fcd1b4cc9f"
      },
      "source": [
        "for col in cols[5:]:\n",
        "    pd.to_numeric(df_new[col])\n",
        "df_new.info()"
      ],
      "execution_count": 48,
      "outputs": [
        {
          "output_type": "error",
          "ename": "ValueError",
          "evalue": "ignored",
          "traceback": [
            "\u001b[0;31m---------------------------------------------------------------------------\u001b[0m",
            "\u001b[0;31mValueError\u001b[0m                                Traceback (most recent call last)",
            "\u001b[0;32mpandas/_libs/lib.pyx\u001b[0m in \u001b[0;36mpandas._libs.lib.maybe_convert_numeric\u001b[0;34m()\u001b[0m\n",
            "\u001b[0;31mValueError\u001b[0m: Unable to parse string \"480K\"",
            "\nDuring handling of the above exception, another exception occurred:\n",
            "\u001b[0;31mValueError\u001b[0m                                Traceback (most recent call last)",
            "\u001b[0;32m<ipython-input-48-25ea87f3e07f>\u001b[0m in \u001b[0;36m<module>\u001b[0;34m()\u001b[0m\n\u001b[1;32m      1\u001b[0m \u001b[0;32mfor\u001b[0m \u001b[0mcol\u001b[0m \u001b[0;32min\u001b[0m \u001b[0mcols\u001b[0m\u001b[0;34m[\u001b[0m\u001b[0;36m5\u001b[0m\u001b[0;34m:\u001b[0m\u001b[0;34m]\u001b[0m\u001b[0;34m:\u001b[0m\u001b[0;34m\u001b[0m\u001b[0;34m\u001b[0m\u001b[0m\n\u001b[0;32m----> 2\u001b[0;31m     \u001b[0mpd\u001b[0m\u001b[0;34m.\u001b[0m\u001b[0mto_numeric\u001b[0m\u001b[0;34m(\u001b[0m\u001b[0mdf_new\u001b[0m\u001b[0;34m[\u001b[0m\u001b[0mcol\u001b[0m\u001b[0;34m]\u001b[0m\u001b[0;34m)\u001b[0m\u001b[0;34m\u001b[0m\u001b[0;34m\u001b[0m\u001b[0m\n\u001b[0m\u001b[1;32m      3\u001b[0m \u001b[0mdf_new\u001b[0m\u001b[0;34m.\u001b[0m\u001b[0minfo\u001b[0m\u001b[0;34m(\u001b[0m\u001b[0;34m)\u001b[0m\u001b[0;34m\u001b[0m\u001b[0;34m\u001b[0m\u001b[0m\n",
            "\u001b[0;32m/usr/local/lib/python3.7/dist-packages/pandas/core/tools/numeric.py\u001b[0m in \u001b[0;36mto_numeric\u001b[0;34m(arg, errors, downcast)\u001b[0m\n\u001b[1;32m    151\u001b[0m         \u001b[0;32mtry\u001b[0m\u001b[0;34m:\u001b[0m\u001b[0;34m\u001b[0m\u001b[0;34m\u001b[0m\u001b[0m\n\u001b[1;32m    152\u001b[0m             values = lib.maybe_convert_numeric(\n\u001b[0;32m--> 153\u001b[0;31m                 \u001b[0mvalues\u001b[0m\u001b[0;34m,\u001b[0m \u001b[0mset\u001b[0m\u001b[0;34m(\u001b[0m\u001b[0;34m)\u001b[0m\u001b[0;34m,\u001b[0m \u001b[0mcoerce_numeric\u001b[0m\u001b[0;34m=\u001b[0m\u001b[0mcoerce_numeric\u001b[0m\u001b[0;34m\u001b[0m\u001b[0;34m\u001b[0m\u001b[0m\n\u001b[0m\u001b[1;32m    154\u001b[0m             )\n\u001b[1;32m    155\u001b[0m         \u001b[0;32mexcept\u001b[0m \u001b[0;34m(\u001b[0m\u001b[0mValueError\u001b[0m\u001b[0;34m,\u001b[0m \u001b[0mTypeError\u001b[0m\u001b[0;34m)\u001b[0m\u001b[0;34m:\u001b[0m\u001b[0;34m\u001b[0m\u001b[0;34m\u001b[0m\u001b[0m\n",
            "\u001b[0;32mpandas/_libs/lib.pyx\u001b[0m in \u001b[0;36mpandas._libs.lib.maybe_convert_numeric\u001b[0;34m()\u001b[0m\n",
            "\u001b[0;31mValueError\u001b[0m: Unable to parse string \"480K\" at position 10"
          ]
        }
      ]
    },
    {
      "cell_type": "code",
      "metadata": {
        "colab": {
          "base_uri": "https://localhost:8080/",
          "height": 204
        },
        "id": "bmaVuFOkBpLU",
        "outputId": "a417c986-9b44-448a-b105-3e9105cfc748"
      },
      "source": [
        "df_new.head()"
      ],
      "execution_count": 44,
      "outputs": [
        {
          "output_type": "execute_result",
          "data": {
            "text/html": [
              "<div>\n",
              "<style scoped>\n",
              "    .dataframe tbody tr th:only-of-type {\n",
              "        vertical-align: middle;\n",
              "    }\n",
              "\n",
              "    .dataframe tbody tr th {\n",
              "        vertical-align: top;\n",
              "    }\n",
              "\n",
              "    .dataframe thead th {\n",
              "        text-align: right;\n",
              "    }\n",
              "</style>\n",
              "<table border=\"1\" class=\"dataframe\">\n",
              "  <thead>\n",
              "    <tr style=\"text-align: right;\">\n",
              "      <th></th>\n",
              "      <th>Name</th>\n",
              "      <th>Platform</th>\n",
              "      <th>Year</th>\n",
              "      <th>Genre</th>\n",
              "      <th>Publisher</th>\n",
              "      <th>NA_Sales</th>\n",
              "      <th>EU_Sales</th>\n",
              "      <th>JP_Sales</th>\n",
              "      <th>Other_Sales</th>\n",
              "    </tr>\n",
              "  </thead>\n",
              "  <tbody>\n",
              "    <tr>\n",
              "      <th>1</th>\n",
              "      <td>Candace Kane's Candy Factory</td>\n",
              "      <td>DS</td>\n",
              "      <td>2008</td>\n",
              "      <td>Action</td>\n",
              "      <td>Destineer</td>\n",
              "      <td>0.04</td>\n",
              "      <td>0</td>\n",
              "      <td>0</td>\n",
              "      <td>0</td>\n",
              "    </tr>\n",
              "    <tr>\n",
              "      <th>2</th>\n",
              "      <td>The Munchables</td>\n",
              "      <td>Wii</td>\n",
              "      <td>2009</td>\n",
              "      <td>Action</td>\n",
              "      <td>Namco Bandai Games</td>\n",
              "      <td>0.17</td>\n",
              "      <td>0</td>\n",
              "      <td>0</td>\n",
              "      <td>0.01</td>\n",
              "    </tr>\n",
              "    <tr>\n",
              "      <th>3</th>\n",
              "      <td>Otome wa Oanesama Boku ni Koi Shiteru Portable</td>\n",
              "      <td>PSP</td>\n",
              "      <td>2010</td>\n",
              "      <td>Adventure</td>\n",
              "      <td>Alchemist</td>\n",
              "      <td>0</td>\n",
              "      <td>0</td>\n",
              "      <td>0.02</td>\n",
              "      <td>0</td>\n",
              "    </tr>\n",
              "    <tr>\n",
              "      <th>4</th>\n",
              "      <td>Deal or No Deal: Special Edition</td>\n",
              "      <td>DS</td>\n",
              "      <td>2010</td>\n",
              "      <td>Misc</td>\n",
              "      <td>Zoo Games</td>\n",
              "      <td>0.04</td>\n",
              "      <td>0</td>\n",
              "      <td>0</td>\n",
              "      <td>0</td>\n",
              "    </tr>\n",
              "    <tr>\n",
              "      <th>5</th>\n",
              "      <td>Ben 10 Ultimate Alien: Cosmic Destruction</td>\n",
              "      <td>PS3</td>\n",
              "      <td>2010</td>\n",
              "      <td>Platform</td>\n",
              "      <td>D3Publisher</td>\n",
              "      <td>0.12</td>\n",
              "      <td>0.09</td>\n",
              "      <td>0</td>\n",
              "      <td>0.04</td>\n",
              "    </tr>\n",
              "  </tbody>\n",
              "</table>\n",
              "</div>"
            ],
            "text/plain": [
              "                                             Name Platform  ... JP_Sales Other_Sales\n",
              "1                    Candace Kane's Candy Factory       DS  ...        0           0\n",
              "2                                  The Munchables      Wii  ...        0        0.01\n",
              "3  Otome wa Oanesama Boku ni Koi Shiteru Portable      PSP  ...     0.02           0\n",
              "4                Deal or No Deal: Special Edition       DS  ...        0           0\n",
              "5       Ben 10 Ultimate Alien: Cosmic Destruction      PS3  ...        0        0.04\n",
              "\n",
              "[5 rows x 9 columns]"
            ]
          },
          "metadata": {},
          "execution_count": 44
        }
      ]
    }
  ]
}